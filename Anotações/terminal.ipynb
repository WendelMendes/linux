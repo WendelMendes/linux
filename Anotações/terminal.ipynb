{
 "cells": [
  {
   "cell_type": "code",
   "execution_count": null,
   "metadata": {},
   "outputs": [],
   "source": [
    "📝 Alguns comandos úteis (Linux, MacOs e Powershell/Windows)\n",
    "lista os arquivos presentes no diretório\n",
    "ls # => lista do diretorio atual \n",
    "# ou\n",
    "dir / tree /f\n",
    "# ou\n",
    "ls <caminho do diretorio> # => lista do diretorio passado\n",
    "Altera diretório atual\n",
    "cd #=> volta para a home\n",
    "# ou\n",
    "cd <caminho> #=> leva para o caminho passado\n",
    "Remove arquivo\n",
    "rm <arquivo>\n",
    "Remove diretório cujo caminho é dado como operando\n",
    "rmdir <caminho>\n",
    "# => o diretório deve estar vazio, ou seja, antes você tem que remover todos os arquivos do diretório\n",
    "Escreve na tela o conteúdo do arquivo do caminho dado como operando\n",
    "cat <arquivo>\n",
    "Escreve na tela o caminho do diretório de trabalho atual\n",
    "pwd\n",
    "Lista os comandos já executados\n",
    "history\n",
    "Limpa a tela do terminal\n",
    "clear # => (clc no Powershell)"
   ]
  }
 ],
 "metadata": {
  "kernelspec": {
   "display_name": "Python 3.10.2 64-bit",
   "language": "python",
   "name": "python3"
  },
  "language_info": {
   "name": "python",
   "version": "3.10.2"
  },
  "orig_nbformat": 4,
  "vscode": {
   "interpreter": {
    "hash": "7fd2240e5a1fd276936d0b3d39d0c82344fb6463dd5554ba79e9291dc240cfa9"
   }
  }
 },
 "nbformat": 4,
 "nbformat_minor": 2
}
